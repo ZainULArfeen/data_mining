{
 "cells": [
  {
   "cell_type": "code",
   "execution_count": 20,
   "metadata": {},
   "outputs": [
    {
     "data": {
      "text/html": [
       "<div>\n",
       "<style scoped>\n",
       "    .dataframe tbody tr th:only-of-type {\n",
       "        vertical-align: middle;\n",
       "    }\n",
       "\n",
       "    .dataframe tbody tr th {\n",
       "        vertical-align: top;\n",
       "    }\n",
       "\n",
       "    .dataframe thead th {\n",
       "        text-align: right;\n",
       "    }\n",
       "</style>\n",
       "<table border=\"1\" class=\"dataframe\">\n",
       "  <thead>\n",
       "    <tr style=\"text-align: right;\">\n",
       "      <th></th>\n",
       "      <th>Id</th>\n",
       "      <th>SepalLengthCm</th>\n",
       "      <th>SepalWidthCm</th>\n",
       "      <th>PetalLengthCm</th>\n",
       "      <th>PetalWidthCm</th>\n",
       "      <th>Species</th>\n",
       "    </tr>\n",
       "  </thead>\n",
       "  <tbody>\n",
       "    <tr>\n",
       "      <td>0</td>\n",
       "      <td>1</td>\n",
       "      <td>5.1</td>\n",
       "      <td>3.5</td>\n",
       "      <td>1.4</td>\n",
       "      <td>0.2</td>\n",
       "      <td>Iris-setosa</td>\n",
       "    </tr>\n",
       "    <tr>\n",
       "      <td>1</td>\n",
       "      <td>2</td>\n",
       "      <td>4.9</td>\n",
       "      <td>3.0</td>\n",
       "      <td>1.4</td>\n",
       "      <td>0.2</td>\n",
       "      <td>Iris-setosa</td>\n",
       "    </tr>\n",
       "    <tr>\n",
       "      <td>2</td>\n",
       "      <td>3</td>\n",
       "      <td>4.7</td>\n",
       "      <td>3.2</td>\n",
       "      <td>1.3</td>\n",
       "      <td>0.2</td>\n",
       "      <td>Iris-setosa</td>\n",
       "    </tr>\n",
       "  </tbody>\n",
       "</table>\n",
       "</div>"
      ],
      "text/plain": [
       "   Id  SepalLengthCm  SepalWidthCm  PetalLengthCm  PetalWidthCm      Species\n",
       "0   1            5.1           3.5            1.4           0.2  Iris-setosa\n",
       "1   2            4.9           3.0            1.4           0.2  Iris-setosa\n",
       "2   3            4.7           3.2            1.3           0.2  Iris-setosa"
      ]
     },
     "execution_count": 20,
     "metadata": {},
     "output_type": "execute_result"
    }
   ],
   "source": [
    "import numpy as np\n",
    "import pandas as pd\n",
    "from sklearn.model_selection import train_test_split\n",
    "from sklearn.naive_bayes import GaussianNB\n",
    "data = pd.read_csv(\"iris.csv\")\n",
    "data.head(3)"
   ]
  },
  {
   "cell_type": "code",
   "execution_count": 62,
   "metadata": {
    "scrolled": true
   },
   "outputs": [
    {
     "name": "stdout",
     "output_type": "stream",
     "text": [
      "Training Data :  120 \n",
      "Testing Data :  30 \n",
      "Accuracy :  0.9666666666666667\n"
     ]
    }
   ],
   "source": [
    "X = data[[\"SepalLengthCm\",\"SepalWidthCm\",\"PetalLengthCm\",\"PetalWidthCm\"]]\n",
    "y = data['Species']\n",
    "X_train, X_test, y_train, y_test = train_test_split(X,y, train_size=0.8, random_state=0)\n",
    "train_data = len(X_train)\n",
    "test_data = len(X_test)\n",
    "model = GaussianNB()\n",
    "model_train = model.fit(X_train,y_train)\n",
    "model_accur = model.score(X_test, y_test)\n",
    "print(\"Training Data : \" , train_data, \"\\nTesting Data : \" , test_data, \"\\nAccuracy : \", model_accur)"
   ]
  },
  {
   "cell_type": "markdown",
   "metadata": {},
   "source": [
    "### First select individual feature and check their accuracy"
   ]
  },
  {
   "cell_type": "code",
   "execution_count": 63,
   "metadata": {},
   "outputs": [
    {
     "name": "stdout",
     "output_type": "stream",
     "text": [
      "Training Data :  120 \n",
      "Testing Data :  30 \n",
      "Accuracy :  0.6666666666666666\n"
     ]
    }
   ],
   "source": [
    "# Feature=SepalLength\n",
    "X = data[[\"SepalLengthCm\"]]\n",
    "y = data['Species']\n",
    "X_train, X_test, y_train, y_test = train_test_split(X,y, train_size=0.8, random_state=0)\n",
    "train_data = len(X_train)\n",
    "test_data = len(X_test)\n",
    "model = GaussianNB()\n",
    "model_train = model.fit(X_train,y_train)\n",
    "model_accur = model.score(X_test, y_test)\n",
    "print(\"Training Data : \" , train_data, \"\\nTesting Data : \" , test_data, \"\\nAccuracy : \", model_accur)"
   ]
  },
  {
   "cell_type": "code",
   "execution_count": 70,
   "metadata": {},
   "outputs": [
    {
     "name": "stdout",
     "output_type": "stream",
     "text": [
      "Training Data :  120 \n",
      "Testing Data :  30 \n",
      "Accuracy :  0.5333333333333333\n"
     ]
    }
   ],
   "source": [
    "#Feature=SepalWidth\n",
    "X = data[[\"SepalWidthCm\"]]\n",
    "y = data['Species']\n",
    "X_train, X_test, y_train, y_test = train_test_split(X,y, train_size=0.8, random_state=0)\n",
    "train_data = len(X_train)\n",
    "test_data = len(X_test)\n",
    "model = GaussianNB()\n",
    "model_train = model.fit(X_train,y_train)\n",
    "model_accur = model.score(X_test, y_test)\n",
    "print(\"Training Data : \" , train_data, \"\\nTesting Data : \" , test_data, \"\\nAccuracy : \", model_accur)"
   ]
  },
  {
   "cell_type": "code",
   "execution_count": 68,
   "metadata": {},
   "outputs": [
    {
     "name": "stdout",
     "output_type": "stream",
     "text": [
      "Training Data :  120 \n",
      "Testing Data :  30 \n",
      "Accuracy :  0.9666666666666667\n"
     ]
    }
   ],
   "source": [
    "# feature=PetalLength\n",
    "X = data[[\"PetalLengthCm\"]]\n",
    "y = data['Species']\n",
    "X_train, X_test, y_train, y_test = train_test_split(X,y, train_size=0.8, random_state=0)\n",
    "train_data = len(X_train)\n",
    "test_data = len(X_test)\n",
    "model = GaussianNB()\n",
    "model_train = model.fit(X_train,y_train)\n",
    "model_accur = model.score(X_test, y_test)\n",
    "print(\"Training Data : \" , train_data, \"\\nTesting Data : \" , test_data, \"\\nAccuracy : \", model_accur)"
   ]
  },
  {
   "cell_type": "code",
   "execution_count": 69,
   "metadata": {},
   "outputs": [
    {
     "name": "stdout",
     "output_type": "stream",
     "text": [
      "Training Data :  120 \n",
      "Testing Data :  30 \n",
      "Accuracy :  0.9666666666666667\n"
     ]
    }
   ],
   "source": [
    "# Feature = PetalWidth\n",
    "X = data[[\"PetalWidthCm\"]]\n",
    "y = data['Species']\n",
    "X_train, X_test, y_train, y_test = train_test_split(X,y, train_size=0.8, random_state=0)\n",
    "train_data = len(X_train)\n",
    "test_data = len(X_test)\n",
    "model = GaussianNB()\n",
    "model_train = model.fit(X_train,y_train)\n",
    "model_accur = model.score(X_test, y_test)\n",
    "print(\"Training Data : \" , train_data, \"\\nTesting Data : \" , test_data, \"\\nAccuracy : \", model_accur)"
   ]
  },
  {
   "cell_type": "markdown",
   "metadata": {},
   "source": [
    "### Then make a set of two features i.e. (f1, f2), (f2, f3)... and calculate their accuracy with each other"
   ]
  },
  {
   "cell_type": "code",
   "execution_count": 71,
   "metadata": {},
   "outputs": [
    {
     "name": "stdout",
     "output_type": "stream",
     "text": [
      "Training Data :  120 \n",
      "Testing Data :  30 \n",
      "Accuracy :  0.7333333333333333\n"
     ]
    }
   ],
   "source": [
    "X = data[[\"SepalLengthCm\",\"SepalWidthCm\"]]\n",
    "y = data['Species']\n",
    "X_train, X_test, y_train, y_test = train_test_split(X,y, train_size=0.8, random_state=0)\n",
    "train_data = len(X_train)\n",
    "test_data = len(X_test)\n",
    "model = GaussianNB()\n",
    "model_train = model.fit(X_train,y_train)\n",
    "model_accur = model.score(X_test, y_test)\n",
    "print(\"Training Data : \" , train_data, \"\\nTesting Data : \" , test_data, \"\\nAccuracy : \", model_accur)"
   ]
  },
  {
   "cell_type": "code",
   "execution_count": 72,
   "metadata": {},
   "outputs": [
    {
     "name": "stdout",
     "output_type": "stream",
     "text": [
      "Training Data :  120 \n",
      "Testing Data :  30 \n",
      "Accuracy :  0.9666666666666667\n"
     ]
    }
   ],
   "source": [
    "X = data[[\"SepalWidthCm\",\"PetalLengthCm\"]]\n",
    "y = data['Species']\n",
    "X_train, X_test, y_train, y_test = train_test_split(X,y, train_size=0.8, random_state=0)\n",
    "train_data = len(X_train)\n",
    "test_data = len(X_test)\n",
    "model = GaussianNB()\n",
    "model_train = model.fit(X_train,y_train)\n",
    "model_accur = model.score(X_test, y_test)\n",
    "print(\"Training Data : \" , train_data, \"\\nTesting Data : \" , test_data, \"\\nAccuracy : \", model_accur)"
   ]
  },
  {
   "cell_type": "code",
   "execution_count": 73,
   "metadata": {},
   "outputs": [
    {
     "name": "stdout",
     "output_type": "stream",
     "text": [
      "Training Data :  120 \n",
      "Testing Data :  30 \n",
      "Accuracy :  1.0\n"
     ]
    }
   ],
   "source": [
    "X = data[[\"PetalLengthCm\",\"PetalWidthCm\"]]\n",
    "y = data['Species']\n",
    "X_train, X_test, y_train, y_test = train_test_split(X,y, train_size=0.8, random_state=0)\n",
    "train_data = len(X_train)\n",
    "test_data = len(X_test)\n",
    "model = GaussianNB()\n",
    "model_train = model.fit(X_train,y_train)\n",
    "model_accur = model.score(X_test, y_test)\n",
    "print(\"Training Data : \" , train_data, \"\\nTesting Data : \" , test_data, \"\\nAccuracy : \", model_accur)"
   ]
  },
  {
   "cell_type": "code",
   "execution_count": 74,
   "metadata": {},
   "outputs": [
    {
     "name": "stdout",
     "output_type": "stream",
     "text": [
      "Training Data :  120 \n",
      "Testing Data :  30 \n",
      "Accuracy :  0.9666666666666667\n"
     ]
    }
   ],
   "source": [
    "X = data[[\"SepalLengthCm\",\"PetalWidthCm\"]]\n",
    "y = data['Species']\n",
    "X_train, X_test, y_train, y_test = train_test_split(X,y, train_size=0.8, random_state=0)\n",
    "train_data = len(X_train)\n",
    "test_data = len(X_test)\n",
    "model = GaussianNB()\n",
    "model_train = model.fit(X_train,y_train)\n",
    "model_accur = model.score(X_test, y_test)\n",
    "print(\"Training Data : \" , train_data, \"\\nTesting Data : \" , test_data, \"\\nAccuracy : \", model_accur)"
   ]
  },
  {
   "cell_type": "markdown",
   "metadata": {},
   "source": [
    "### Make a set of three features and calculate their accuracy."
   ]
  },
  {
   "cell_type": "code",
   "execution_count": null,
   "metadata": {},
   "outputs": [],
   "source": [
    "X = data[[\"SepalLengthCm\",\"SepalWidthCm\",\"PetalLengthCm\"]]\n",
    "y = data['Species']\n",
    "X_train, X_test, y_train, y_test = train_test_split(X,y, train_size=0.8, random_state=0)\n",
    "train_data = len(X_train)\n",
    "test_data = len(X_test)\n",
    "model = GaussianNB()\n",
    "model_train = model.fit(X_train,y_train)\n",
    "model_accur = model.score(X_test, y_test)\n",
    "print(\"Training Data : \" , train_data, \"\\nTesting Data : \" , test_data, \"\\nAccuracy : \", model_accur)"
   ]
  }
 ],
 "metadata": {
  "kernelspec": {
   "display_name": "Python 3",
   "language": "python",
   "name": "python3"
  },
  "language_info": {
   "codemirror_mode": {
    "name": "ipython",
    "version": 3
   },
   "file_extension": ".py",
   "mimetype": "text/x-python",
   "name": "python",
   "nbconvert_exporter": "python",
   "pygments_lexer": "ipython3",
   "version": "3.7.4"
  }
 },
 "nbformat": 4,
 "nbformat_minor": 2
}
