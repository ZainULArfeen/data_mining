{
 "cells": [
  {
   "cell_type": "code",
   "execution_count": 20,
   "metadata": {},
   "outputs": [
    {
     "data": {
      "text/html": [
       "<div>\n",
       "<style scoped>\n",
       "    .dataframe tbody tr th:only-of-type {\n",
       "        vertical-align: middle;\n",
       "    }\n",
       "\n",
       "    .dataframe tbody tr th {\n",
       "        vertical-align: top;\n",
       "    }\n",
       "\n",
       "    .dataframe thead th {\n",
       "        text-align: right;\n",
       "    }\n",
       "</style>\n",
       "<table border=\"1\" class=\"dataframe\">\n",
       "  <thead>\n",
       "    <tr style=\"text-align: right;\">\n",
       "      <th></th>\n",
       "      <th>Id</th>\n",
       "      <th>SepalLengthCm</th>\n",
       "      <th>SepalWidthCm</th>\n",
       "      <th>PetalLengthCm</th>\n",
       "      <th>PetalWidthCm</th>\n",
       "      <th>Species</th>\n",
       "    </tr>\n",
       "  </thead>\n",
       "  <tbody>\n",
       "    <tr>\n",
       "      <td>0</td>\n",
       "      <td>1</td>\n",
       "      <td>5.1</td>\n",
       "      <td>3.5</td>\n",
       "      <td>1.4</td>\n",
       "      <td>0.2</td>\n",
       "      <td>Iris-setosa</td>\n",
       "    </tr>\n",
       "    <tr>\n",
       "      <td>1</td>\n",
       "      <td>2</td>\n",
       "      <td>4.9</td>\n",
       "      <td>3.0</td>\n",
       "      <td>1.4</td>\n",
       "      <td>0.2</td>\n",
       "      <td>Iris-setosa</td>\n",
       "    </tr>\n",
       "    <tr>\n",
       "      <td>2</td>\n",
       "      <td>3</td>\n",
       "      <td>4.7</td>\n",
       "      <td>3.2</td>\n",
       "      <td>1.3</td>\n",
       "      <td>0.2</td>\n",
       "      <td>Iris-setosa</td>\n",
       "    </tr>\n",
       "  </tbody>\n",
       "</table>\n",
       "</div>"
      ],
      "text/plain": [
       "   Id  SepalLengthCm  SepalWidthCm  PetalLengthCm  PetalWidthCm      Species\n",
       "0   1            5.1           3.5            1.4           0.2  Iris-setosa\n",
       "1   2            4.9           3.0            1.4           0.2  Iris-setosa\n",
       "2   3            4.7           3.2            1.3           0.2  Iris-setosa"
      ]
     },
     "execution_count": 20,
     "metadata": {},
     "output_type": "execute_result"
    }
   ],
   "source": [
    "import numpy as np\n",
    "import pandas as pd\n",
    "from sklearn.model_selection import train_test_split\n",
    "from sklearn.naive_bayes import GaussianNB\n",
    "data = pd.read_csv(\"iris.csv\")\n",
    "data.head(3)"
   ]
  },
  {
   "cell_type": "code",
   "execution_count": 104,
   "metadata": {
    "scrolled": true
   },
   "outputs": [
    {
     "name": "stdout",
     "output_type": "stream",
     "text": [
      "Training Data :\n",
      "      SepalLengthCm  SepalWidthCm  PetalLengthCm  PetalWidthCm\n",
      "137            6.4           3.1            5.5           1.8\n",
      "84             5.4           3.0            4.5           1.5\n",
      "27             5.2           3.5            1.5           0.2\n",
      "127            6.1           3.0            4.9           1.8\n",
      "132            6.4           2.8            5.6           2.2\n",
      "..             ...           ...            ...           ...\n",
      "9              4.9           3.1            1.5           0.1\n",
      "103            6.3           2.9            5.6           1.8\n",
      "67             5.8           2.7            4.1           1.0\n",
      "117            7.7           3.8            6.7           2.2\n",
      "47             4.6           3.2            1.4           0.2\n",
      "\n",
      "[120 rows x 4 columns] \n",
      "Testing Data : \n",
      "      SepalLengthCm  SepalWidthCm  PetalLengthCm  PetalWidthCm\n",
      "114            5.8           2.8            5.1           2.4\n",
      "62             6.0           2.2            4.0           1.0\n",
      "33             5.5           4.2            1.4           0.2\n",
      "107            7.3           2.9            6.3           1.8\n",
      "7              5.0           3.4            1.5           0.2\n",
      "100            6.3           3.3            6.0           2.5\n",
      "40             5.0           3.5            1.3           0.3\n",
      "86             6.7           3.1            4.7           1.5\n",
      "76             6.8           2.8            4.8           1.4\n",
      "71             6.1           2.8            4.0           1.3\n",
      "134            6.1           2.6            5.6           1.4\n",
      "51             6.4           3.2            4.5           1.5\n",
      "73             6.1           2.8            4.7           1.2\n",
      "54             6.5           2.8            4.6           1.5\n",
      "63             6.1           2.9            4.7           1.4\n",
      "37             4.9           3.1            1.5           0.1\n",
      "78             6.0           2.9            4.5           1.5\n",
      "90             5.5           2.6            4.4           1.2\n",
      "45             4.8           3.0            1.4           0.3\n",
      "16             5.4           3.9            1.3           0.4\n",
      "121            5.6           2.8            4.9           2.0\n",
      "66             5.6           3.0            4.5           1.5\n",
      "24             4.8           3.4            1.9           0.2\n",
      "8              4.4           2.9            1.4           0.2\n",
      "126            6.2           2.8            4.8           1.8\n",
      "22             4.6           3.6            1.0           0.2\n",
      "44             5.1           3.8            1.9           0.4\n",
      "97             6.2           2.9            4.3           1.3\n",
      "93             5.0           2.3            3.3           1.0\n",
      "26             5.0           3.4            1.6           0.4 \n",
      "Accuracy :  0.9666666666666667\n",
      "Prediction : \n",
      " ['Iris-virginica' 'Iris-versicolor' 'Iris-setosa' 'Iris-virginica'\n",
      " 'Iris-setosa' 'Iris-virginica' 'Iris-setosa' 'Iris-versicolor'\n",
      " 'Iris-versicolor' 'Iris-versicolor' 'Iris-versicolor' 'Iris-versicolor'\n",
      " 'Iris-versicolor' 'Iris-versicolor' 'Iris-versicolor' 'Iris-setosa'\n",
      " 'Iris-versicolor' 'Iris-versicolor' 'Iris-setosa' 'Iris-setosa'\n",
      " 'Iris-virginica' 'Iris-versicolor' 'Iris-setosa' 'Iris-setosa'\n",
      " 'Iris-virginica' 'Iris-setosa' 'Iris-setosa' 'Iris-versicolor'\n",
      " 'Iris-versicolor' 'Iris-setosa']\n"
     ]
    }
   ],
   "source": [
    "X = data[[\"SepalLengthCm\",\"SepalWidthCm\",\"PetalLengthCm\",\"PetalWidthCm\"]]\n",
    "y = data['Species']\n",
    "X_train, X_test, y_train, y_test = train_test_split(X,y, train_size=0.8, random_state=0)\n",
    "train_data = X_train\n",
    "test_data = X_test\n",
    "model = GaussianNB()\n",
    "model_train = model.fit(X_train,y_train)\n",
    "model_predict = model.predict(X_test)\n",
    "model_accur = model.score(X_test,y_test)\n",
    "print(\"Training Data :\\n\" , train_data, \"\\nTesting Data : \\n\" , test_data, \"\\nAccuracy : \", model_accur)\n",
    "print(\"Prediction : \\n\" , model_predict)"
   ]
  },
  {
   "cell_type": "markdown",
   "metadata": {},
   "source": [
    "### First select individual feature and check their accuracy"
   ]
  },
  {
   "cell_type": "code",
   "execution_count": 63,
   "metadata": {},
   "outputs": [
    {
     "name": "stdout",
     "output_type": "stream",
     "text": [
      "Training Data :  120 \n",
      "Testing Data :  30 \n",
      "Accuracy :  0.6666666666666666\n"
     ]
    }
   ],
   "source": [
    "# Feature=SepalLength\n",
    "X = data[[\"SepalLengthCm\"]]\n",
    "y = data['Species']\n",
    "X_train, X_test, y_train, y_test = train_test_split(X,y, train_size=0.8, random_state=0)\n",
    "train_data = len(X_train)\n",
    "test_data = len(X_test)\n",
    "model = GaussianNB()\n",
    "model_train = model.fit(X_train,y_train)\n",
    "model_accur = model.score(X_test, y_test)\n",
    "print(\"Training Data : \" , train_data, \"\\nTesting Data : \" , test_data, \"\\nAccuracy : \", model_accur)"
   ]
  },
  {
   "cell_type": "code",
   "execution_count": 70,
   "metadata": {},
   "outputs": [
    {
     "name": "stdout",
     "output_type": "stream",
     "text": [
      "Training Data :  120 \n",
      "Testing Data :  30 \n",
      "Accuracy :  0.5333333333333333\n"
     ]
    }
   ],
   "source": [
    "#Feature=SepalWidth\n",
    "X = data[[\"SepalWidthCm\"]]\n",
    "y = data['Species']\n",
    "X_train, X_test, y_train, y_test = train_test_split(X,y, train_size=0.8, random_state=0)\n",
    "train_data = len(X_train)\n",
    "test_data = len(X_test)\n",
    "model = GaussianNB()\n",
    "model_train = model.fit(X_train,y_train)\n",
    "model_accur = model.score(X_test, y_test)\n",
    "print(\"Training Data : \" , train_data, \"\\nTesting Data : \" , test_data, \"\\nAccuracy : \", model_accur)"
   ]
  },
  {
   "cell_type": "code",
   "execution_count": 103,
   "metadata": {},
   "outputs": [
    {
     "name": "stdout",
     "output_type": "stream",
     "text": [
      "Training Data :  120 \n",
      "Testing Data :  30 \n",
      "Accuracy :  0.9666666666666667\n"
     ]
    }
   ],
   "source": [
    "# feature=PetalLength\n",
    "X = data[[\"PetalLengthCm\"]]\n",
    "y = data['Species']\n",
    "X_train, X_test, y_train, y_test = train_test_split(X,y, train_size=0.8, random_state=0)\n",
    "train_data = len(X_train)\n",
    "test_data = len(X_test)\n",
    "model = GaussianNB()\n",
    "model_train = model.fit(X_train,y_train)\n",
    "model_accur = model.score(X_test, y_test)\n",
    "print(\"Training Data : \" , train_data, \"\\nTesting Data : \" , test_data, \"\\nAccuracy : \", model_accur)"
   ]
  },
  {
   "cell_type": "code",
   "execution_count": 102,
   "metadata": {},
   "outputs": [
    {
     "name": "stdout",
     "output_type": "stream",
     "text": [
      "Training Data :  120 \n",
      "Testing Data :  30 \n",
      "Accuracy :  0.9666666666666667\n"
     ]
    }
   ],
   "source": [
    "# Feature = PetalWidth\n",
    "X = data[[\"PetalWidthCm\"]]\n",
    "y = data['Species']\n",
    "X_train, X_test, y_train, y_test = train_test_split(X,y, train_size=0.8, random_state=0)\n",
    "train_data = len(X_train)\n",
    "test_data = len(X_test)\n",
    "model = GaussianNB()\n",
    "model_train = model.fit(X_train,y_train)\n",
    "model_accur = model.score(X_test, y_test)\n",
    "print(\"Training Data : \" , train_data, \"\\nTesting Data : \" , test_data, \"\\nAccuracy : \", model_accur)"
   ]
  },
  {
   "cell_type": "markdown",
   "metadata": {},
   "source": [
    "### Then make a set of two features i.e. (f1, f2), (f2, f3)... and calculate their accuracy with each other"
   ]
  },
  {
   "cell_type": "code",
   "execution_count": 71,
   "metadata": {},
   "outputs": [
    {
     "name": "stdout",
     "output_type": "stream",
     "text": [
      "Training Data :  120 \n",
      "Testing Data :  30 \n",
      "Accuracy :  0.7333333333333333\n"
     ]
    }
   ],
   "source": [
    "X = data[[\"SepalLengthCm\",\"SepalWidthCm\"]]\n",
    "y = data['Species']\n",
    "X_train, X_test, y_train, y_test = train_test_split(X,y, train_size=0.8, random_state=0)\n",
    "train_data = len(X_train)\n",
    "test_data = len(X_test)\n",
    "model = GaussianNB()\n",
    "model_train = model.fit(X_train,y_train)\n",
    "model_accur = model.score(X_test, y_test)\n",
    "print(\"Training Data : \" , train_data, \"\\nTesting Data : \" , test_data, \"\\nAccuracy : \", model_accur)"
   ]
  },
  {
   "cell_type": "code",
   "execution_count": 72,
   "metadata": {},
   "outputs": [
    {
     "name": "stdout",
     "output_type": "stream",
     "text": [
      "Training Data :  120 \n",
      "Testing Data :  30 \n",
      "Accuracy :  0.9666666666666667\n"
     ]
    }
   ],
   "source": [
    "X = data[[\"SepalWidthCm\",\"PetalLengthCm\"]]\n",
    "y = data['Species']\n",
    "X_train, X_test, y_train, y_test = train_test_split(X,y, train_size=0.8, random_state=0)\n",
    "train_data = len(X_train)\n",
    "test_data = len(X_test)\n",
    "model = GaussianNB()\n",
    "model_train = model.fit(X_train,y_train)\n",
    "model_accur = model.score(X_test, y_test)\n",
    "print(\"Training Data : \" , train_data, \"\\nTesting Data : \" , test_data, \"\\nAccuracy : \", model_accur)"
   ]
  },
  {
   "cell_type": "code",
   "execution_count": 73,
   "metadata": {},
   "outputs": [
    {
     "name": "stdout",
     "output_type": "stream",
     "text": [
      "Training Data :  120 \n",
      "Testing Data :  30 \n",
      "Accuracy :  1.0\n"
     ]
    }
   ],
   "source": [
    "X = data[[\"PetalLengthCm\",\"PetalWidthCm\"]]\n",
    "y = data['Species']\n",
    "X_train, X_test, y_train, y_test = train_test_split(X,y, train_size=0.8, random_state=0)\n",
    "train_data = len(X_train)\n",
    "test_data = len(X_test)\n",
    "model = GaussianNB()\n",
    "model_train = model.fit(X_train,y_train)\n",
    "model_accur = model.score(X_test, y_test)\n",
    "print(\"Training Data : \" , train_data, \"\\nTesting Data : \" , test_data, \"\\nAccuracy : \", model_accur)"
   ]
  },
  {
   "cell_type": "code",
   "execution_count": 74,
   "metadata": {},
   "outputs": [
    {
     "name": "stdout",
     "output_type": "stream",
     "text": [
      "Training Data :  120 \n",
      "Testing Data :  30 \n",
      "Accuracy :  0.9666666666666667\n"
     ]
    }
   ],
   "source": [
    "X = data[[\"SepalLengthCm\",\"PetalWidthCm\"]]\n",
    "y = data['Species']\n",
    "X_train, X_test, y_train, y_test = train_test_split(X,y, train_size=0.8, random_state=0)\n",
    "train_data = len(X_train)\n",
    "test_data = len(X_test)\n",
    "model = GaussianNB()\n",
    "model_train = model.fit(X_train,y_train)\n",
    "model_accur = model.score(X_test, y_test)\n",
    "print(\"Training Data : \" , train_data, \"\\nTesting Data : \" , test_data, \"\\nAccuracy : \", model_accur)"
   ]
  },
  {
   "cell_type": "markdown",
   "metadata": {},
   "source": [
    "### Make a set of three features and calculate their accuracy."
   ]
  },
  {
   "cell_type": "code",
   "execution_count": 75,
   "metadata": {},
   "outputs": [
    {
     "name": "stdout",
     "output_type": "stream",
     "text": [
      "Training Data :  120 \n",
      "Testing Data :  30 \n",
      "Accuracy :  0.8666666666666667\n"
     ]
    }
   ],
   "source": [
    "X = data[[\"SepalLengthCm\",\"SepalWidthCm\",\"PetalLengthCm\"]]\n",
    "y = data['Species']\n",
    "X_train, X_test, y_train, y_test = train_test_split(X,y, train_size=0.8, random_state=0)\n",
    "train_data = len(X_train)\n",
    "test_data = len(X_test)\n",
    "model = GaussianNB()\n",
    "model_train = model.fit(X_train,y_train)\n",
    "model_accur = model.score(X_test, y_test)\n",
    "print(\"Training Data : \" , train_data, \"\\nTesting Data : \" , test_data, \"\\nAccuracy : \", model_accur)"
   ]
  },
  {
   "cell_type": "code",
   "execution_count": 76,
   "metadata": {
    "scrolled": true
   },
   "outputs": [
    {
     "name": "stdout",
     "output_type": "stream",
     "text": [
      "Training Data :  120 \n",
      "Testing Data :  30 \n",
      "Accuracy :  1.0\n"
     ]
    }
   ],
   "source": [
    "X = data[[\"SepalWidthCm\",\"PetalLengthCm\",\"PetalWidthCm\"]]\n",
    "y = data['Species']\n",
    "X_train, X_test, y_train, y_test = train_test_split(X,y, train_size=0.8, random_state=0)\n",
    "train_data = len(X_train)\n",
    "test_data = len(X_test)\n",
    "model = GaussianNB()\n",
    "model_train = model.fit(X_train,y_train)\n",
    "model_accur = model.score(X_test, y_test)\n",
    "print(\"Training Data : \" , train_data, \"\\nTesting Data : \" , test_data, \"\\nAccuracy : \", model_accur)"
   ]
  },
  {
   "cell_type": "markdown",
   "metadata": {},
   "source": [
    "### Which of the above three feature selection approaches performed better and why? Explain in detail."
   ]
  },
  {
   "cell_type": "raw",
   "metadata": {},
   "source": [
    "feature set which contains the feature \"PetalWidth\" gives the best performance\n",
    "Importance of features in Iris Dataset\n",
    "Petal_width>Petal_Length>Sepal_Length>Sepal_Width"
   ]
  },
  {
   "cell_type": "markdown",
   "metadata": {},
   "source": [
    "### Apply 3-fold cross validation on the dataset to check your result performance."
   ]
  },
  {
   "cell_type": "code",
   "execution_count": 122,
   "metadata": {},
   "outputs": [
    {
     "ename": "SyntaxError",
     "evalue": "invalid syntax (<ipython-input-122-7160fc452761>, line 7)",
     "output_type": "error",
     "traceback": [
      "\u001b[1;36m  File \u001b[1;32m\"<ipython-input-122-7160fc452761>\"\u001b[1;36m, line \u001b[1;32m7\u001b[0m\n\u001b[1;33m    for train_index, test_index kf.split(data):\u001b[0m\n\u001b[1;37m                                 ^\u001b[0m\n\u001b[1;31mSyntaxError\u001b[0m\u001b[1;31m:\u001b[0m invalid syntax\n"
     ]
    }
   ],
   "source": [
    "from sklearn.model_selection import KFold\n",
    "data = pd.read_csv(\"iris.csv\")\n",
    "kf = KFold(n_splits=3, random_state=0)\n",
    "X = data[[\"SepalLengthCm\",\"SepalWidthCm\",\"PetalLengthCm\"]]\n",
    "y = data['Species']\n",
    "#kf.split(data)))\n",
    "for train_index, test_index kf.split(data):\n",
    "    X_train, X_test, y_train, y_test = X[train_index], X[test_index], y[train_index], y[test_index]\n",
    "    print(model.score(X_test,y_test))"
   ]
  },
  {
   "cell_type": "code",
   "execution_count": 126,
   "metadata": {},
   "outputs": [
    {
     "name": "stdout",
     "output_type": "stream",
     "text": [
      "[0.8627451  0.88235294 0.9375    ]\n",
      "0.8941993464052288\n"
     ]
    }
   ],
   "source": [
    "from sklearn.model_selection import cross_val_score\n",
    "data = pd.read_csv(\"iris.csv\")\n",
    "X = data[[\"SepalLengthCm\",\"SepalWidthCm\",\"PetalLengthCm\"]]\n",
    "y = data['Species']\n",
    "scores = cross_val_score(model, X, y, cv=3)\n",
    "print(scores)\n",
    "print(scores.mean())"
   ]
  },
  {
   "cell_type": "code",
   "execution_count": null,
   "metadata": {},
   "outputs": [],
   "source": []
  }
 ],
 "metadata": {
  "kernelspec": {
   "display_name": "Python 3",
   "language": "python",
   "name": "python3"
  },
  "language_info": {
   "codemirror_mode": {
    "name": "ipython",
    "version": 3
   },
   "file_extension": ".py",
   "mimetype": "text/x-python",
   "name": "python",
   "nbconvert_exporter": "python",
   "pygments_lexer": "ipython3",
   "version": "3.7.4"
  }
 },
 "nbformat": 4,
 "nbformat_minor": 2
}
