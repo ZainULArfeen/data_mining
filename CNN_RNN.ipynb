{
 "cells": [
  {
   "cell_type": "markdown",
   "metadata": {},
   "source": [
    "### DECISION BOUNDRY"
   ]
  },
  {
   "cell_type": "markdown",
   "metadata": {},
   "source": [
    "In the case of classification problems,  the algorithm learns the function that separates 2 classes – this is known as a Decision boundary. A decision boundary helps us in determining whether a given data point belongs to a positive class or a negative class.\n"
   ]
  },
  {
   "cell_type": "markdown",
   "metadata": {},
   "source": [
    "### Feature Extraction"
   ]
  },
  {
   "cell_type": "markdown",
   "metadata": {},
   "source": [
    "In Feature extraction we extract all the required features that are required by our problem statement."
   ]
  },
  {
   "cell_type": "markdown",
   "metadata": {},
   "source": [
    "### Fetaure Selection"
   ]
  },
  {
   "cell_type": "markdown",
   "metadata": {},
   "source": [
    "In Feature Selection we select the important features that imporoves the performance of our machine learning or deep learning model"
   ]
  },
  {
   "cell_type": "markdown",
   "metadata": {},
   "source": [
    "## Types of Neural Networks"
   ]
  },
  {
   "cell_type": "markdown",
   "metadata": {},
   "source": [
    "Three most important types of neural networks:\n",
    "- Artificial Neural Network(ANN)\n",
    "- Convolution Neutral Network(CNN)\n",
    "- Recurrent Neural Network(RNN)"
   ]
  },
  {
   "cell_type": "markdown",
   "metadata": {},
   "source": [
    "### Artificial Neural Network:"
   ]
  },
  {
   "cell_type": "markdown",
   "metadata": {},
   "source": [
    "Artificial Neural Network(ANN) is a group of multiple perceptrons or neurons in each layer. It is also known as a Feed Forward Neural Network because inputs are processed on;y in the forward direction.\n",
    "ANN consists of three layers\n",
    "- Input Layer: Accepts the Input\n",
    "- Hidden Layer: Processes the Input\n",
    "- Output layer: Produces result\n",
    "\n",
    "ANN can used to solve problems related to:\n",
    "- Tabular Data\n",
    "- Image Data\n",
    "- Text Data\n",
    "\n",
    "### Advantages of ANN:\n",
    "\n",
    "ANN is capable of learning any Non-Linear function. Hence these networks are probably known as Universal Function Approximators. ANN have the capacity to learn weights that maps the input to the output.\n",
    "\n",
    "One of the main reason behind universal approximation is the Activation Function. Activation Function introduces no-linear properties to the network. This helps the network learn any complex relationship between input and output."
   ]
  },
  {
   "cell_type": "code",
   "execution_count": null,
   "metadata": {},
   "outputs": [],
   "source": []
  }
 ],
 "metadata": {
  "kernelspec": {
   "display_name": "Python 3",
   "language": "python",
   "name": "python3"
  },
  "language_info": {
   "codemirror_mode": {
    "name": "ipython",
    "version": 3
   },
   "file_extension": ".py",
   "mimetype": "text/x-python",
   "name": "python",
   "nbconvert_exporter": "python",
   "pygments_lexer": "ipython3",
   "version": "3.7.4"
  }
 },
 "nbformat": 4,
 "nbformat_minor": 2
}
